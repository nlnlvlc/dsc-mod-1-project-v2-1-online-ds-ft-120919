{
 "cells": [
  {
   "cell_type": "markdown",
   "metadata": {},
   "source": [
    "# Data Science - The Story of a Hollywood Hero\n",
    "\n",
    "![](images/star-wars.jpg)\n",
    "\n",
    "[Information on creating hyperlinks in jupyter found here](https://sebastianraschka.com/Articles/2014_ipython_internal_links.html) \n",
    "\n",
    "Adding anchors will make hyperlinking waaaayyy easier\n",
    "\n",
    "convert notebook using the following command\n",
    "\n",
    "`jupyter nbconvert --to markdown notebookname.ipynb`\n",
    "\n",
    "\n",
    "### Outline\n",
    "* [Goals and Overview](##goals-and-overview)\n",
    "* [Final Thoughts](#final)"
   ]
  },
  {
   "cell_type": "markdown",
   "metadata": {},
   "source": [
    "## Goals and Overview"
   ]
  },
  {
   "cell_type": "markdown",
   "metadata": {},
   "source": [
    "In this project, I was given multiple datasets\n",
    "* /zippedData/tmdb.movies.csv\n",
    "* /zippedData/imdb.title.crew.csv\n",
    "* /zippedData/tn.movie_budgets.csv\n",
    "* /zippedData/imdb.title.ratings.csv\n",
    "* /zippedData/imdb.name.basics.csv\n",
    "* /zippedData/imdb.title.principals.csv\n",
    "* /zippedData/imdb.title.akas.csv\n",
    "* /zippedData/bom.movie_gross.csv\n",
    "* /zippedData/imdb.title.basics.csv\n",
    "\n",
    "The goal of this project is to find at least 5 insights in this data by joining tables in creative and fun ways (but also useful ways).\n",
    "\n",
    "\n",
    "------"
   ]
  },
  {
   "cell_type": "markdown",
   "metadata": {},
   "source": [
    "<details><summary><span style=\"font-size:18pt; font-weight:bold\">Q1: Is there any pattern in the cast of the top 5 highest profitable movies?</span><br><span style=\"font-size:14pt\">(Extended question): Is there any relationship between genres?</span></summary>\n",
    "\n",
    "\n",
    "\n",
    "# Exploration (EDA)\n",
    "In the image below, we can see that the top highest grossing movies when compared to their production budget movies are: \n",
    "* Avatar \n",
    "* Titanic\n",
    "* Avengers: Infinity War\n",
    "* Star Wars Ep. VII: The Force Awakens\n",
    "* Jurassic World\n",
    "\n",
    "I decided to look at the distribution of **genres** across the **top 50** movies\n",
    "\n",
    "# Some code I used to aggregate the genres by counts\n",
    "\n",
    "```python\n",
    "genre_count = {}\n",
    "for movie in top_5_budget_gross_diff_movies:\n",
    "    movie_genres = joined_df[joined_df['movie']==movie]['genres'].values[0]\n",
    "    try:\n",
    "        for genre in movie_genres:\n",
    "            genre_count[genre] = genre_count.get(genre, 0) + 1\n",
    "    except:\n",
    "        genre_count['not_listed'] = genre_count.get('not_listed', 0) + 1\n",
    "\n",
    "genre_count\n",
    "```\n",
    "\n",
    "![](images/q1-barchart.png)\n",
    "</details>"
   ]
  },
  {
   "cell_type": "markdown",
   "metadata": {},
   "source": [
    "### Q1: Insights/Findings/Recommendations\n",
    "\n",
    "**Findings**\n",
    "\n",
    "After examining the top 50 movies for gross/budget difference, I found that the most represented genres were *Adventures, Action and Sci-Fi*.  Of the top 50 movies, 15 movies did not have genre data available. The lowest represented genres were *Romance, Music, Biography, Horror*.  \n",
    "\n",
    "**Recommendations**\n",
    "* Collect genre information for all movies\n",
    "* If creating a movie in the lowest performing genres, do not expect to gross over the budget.  \n",
    "* If aiming at high gross, create action adventures movies.\n",
    "\n",
    "\n",
    "**Next Steps**\n",
    "* Plan on adding directors, actors, seasons to this data to see if anything else correlates with high performance.  \n",
    "* If possible, gather missing movie information.\n",
    "\n",
    "-----"
   ]
  },
  {
   "cell_type": "code",
   "execution_count": null,
   "metadata": {},
   "outputs": [],
   "source": []
  },
  {
   "cell_type": "code",
   "execution_count": null,
   "metadata": {},
   "outputs": [],
   "source": []
  },
  {
   "cell_type": "code",
   "execution_count": null,
   "metadata": {},
   "outputs": [],
   "source": []
  },
  {
   "cell_type": "code",
   "execution_count": null,
   "metadata": {},
   "outputs": [],
   "source": []
  },
  {
   "cell_type": "code",
   "execution_count": null,
   "metadata": {},
   "outputs": [],
   "source": []
  },
  {
   "cell_type": "code",
   "execution_count": null,
   "metadata": {},
   "outputs": [],
   "source": []
  },
  {
   "cell_type": "code",
   "execution_count": null,
   "metadata": {},
   "outputs": [],
   "source": []
  },
  {
   "cell_type": "code",
   "execution_count": null,
   "metadata": {},
   "outputs": [],
   "source": []
  },
  {
   "cell_type": "markdown",
   "metadata": {},
   "source": [
    "## Final Thoughts  <a class=\"anchor\" id=\"final\"></a>"
   ]
  },
  {
   "cell_type": "code",
   "execution_count": null,
   "metadata": {},
   "outputs": [],
   "source": []
  }
 ],
 "metadata": {
  "kernelspec": {
   "display_name": "Python [conda env:learn-env] *",
   "language": "python",
   "name": "conda-env-learn-env-py"
  },
  "language_info": {
   "codemirror_mode": {
    "name": "ipython",
    "version": 3
   },
   "file_extension": ".py",
   "mimetype": "text/x-python",
   "name": "python",
   "nbconvert_exporter": "python",
   "pygments_lexer": "ipython3",
   "version": "3.6.9"
  }
 },
 "nbformat": 4,
 "nbformat_minor": 2
}
